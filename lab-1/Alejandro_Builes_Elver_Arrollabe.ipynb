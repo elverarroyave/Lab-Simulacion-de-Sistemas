{
 "cells": [
  {
   "cell_type": "markdown",
   "metadata": {},
   "source": [
    "# Laboratorio 1 - Parte 1\n",
    "\n",
    "### Regresión polinomial múltiple\n",
    "\n",
    "### Universidad de Antioquia\n",
    "\n",
    "### Facultad de Ingeniería\n",
    "\n",
    "### Ingeniería de Sistemas\n",
    "\n",
    "### UdeA - Ude@\n",
    "\n",
    "#### Profesor: Antonio Tamayo Herrera\n"
   ]
  },
  {
   "cell_type": "markdown",
   "metadata": {},
   "source": [
    "### Estudiantes\n",
    "\n",
    "#### Nombre: Alejandro Builes Murillo\n",
    "\n",
    "#### Cédula: 71389405\n",
    "\n",
    "#### Nombre: Elver Arrollabe\n",
    "\n",
    "#### Cédula: 1038134914"
   ]
  },
  {
   "cell_type": "markdown",
   "metadata": {},
   "source": [
    "## Guía del laboratorio\n",
    "\n",
    "En esta archivo va a encontrar tanto celdas de código cómo celdas de texto con las instrucciones para desarrollar el laboratorio.\n",
    "\n",
    "Lea atentamente las instrucciones entregadas en las celdas de texto correspondientes y proceda con la solución de las preguntas planteadas.\n",
    "\n",
    "Nota: no olvide ir ejecutando las celdas de código de arriba hacia abajo para que no tenga errores de importación de librerías o por falta de definición de variables."
   ]
  },
  {
   "cell_type": "markdown",
   "metadata": {},
   "source": [
    "## Ejercicio 1\n",
    "\n",
    "A continuación se define la función sigmoidal. En la parte del código dónde está el comentario (Complete ...) debe escribir el código que permita calcular la salida de dicha función. Es decir, escriba una función en Python para la siguiente función matemática:\n",
    "\n",
    "$$ g(z) = \\frac{1}{1+e^{-z}} $$\n",
    "\n",
    "Realice la gráfica de la función sigmoidal para valores de $z$ entre $-5$ y $5$. La gráfica debe tener título y los correspondientes nombres de los ejes."
   ]
  },
  {
   "cell_type": "code",
   "execution_count": 10,
   "metadata": {},
   "outputs": [],
   "source": [
    "import numpy as np\n",
    "import matplotlib.pyplot as plt\n",
    "#from __future__ import division"
   ]
  },
  {
   "cell_type": "code",
   "execution_count": 11,
   "metadata": {},
   "outputs": [
    {
     "data": {
      "image/png": "[encoded data removed]",
      "text/plain": [
       "<Figure size 1080x576 with 1 Axes>"
      ]
     },
     "metadata": {
      "needs_background": "light"
     },
     "output_type": "display_data"
    }
   ],
   "source": [
    "#Sigmoidal\n",
    "def sigmoidal(z):\n",
    "    \n",
    "    #Complete la siguiente línea con el código para calcular la salida de la función sigmoidal\n",
    "    a=np.exp(-z)\n",
    "    s = 1/(1+a)\n",
    "    \n",
    "    #Complete el código para realizar la gráfica de la función aquí\n",
    "    plt.plot(s,color='r',linestyle='--')\n",
    "    plt.ylabel('Sigmoidal(x)',color='b')\n",
    "    plt.xlabel('Valores Z (-5, 5)',color='b')\n",
    "    plt.title('Función Sigmoidal',color='b')\n",
    "    plt.rcParams['figure.figsize'] = (15,8)\n",
    "    plt.show()\n",
    "    \n",
    "    return s\n",
    "\n",
    "x=np.linspace(-5,5,100)\n",
    "result=sigmoidal(x)"
   ]
  },
  {
   "cell_type": "markdown",
   "metadata": {},
   "source": [
    "## Ejercicio 2\n",
    "\n",
    "Analice los siguientes métodos a la luz de la teoría vista para los modelos de regresión polinomial múltiple. Una vez comprenda su funcionamiento, proceda a completar el código del método de gradiente descendente para el problema de regresión. En este método se le pide escribir el código de la regla de actualización de los parámetros del algorítmo de gradiente descedente: \n",
    "\n",
    "$$w_j(iter) = w_j(iter-1) - \\eta \\frac{\\partial E(w)}{\\partial w_j}$$ \n",
    "\n",
    "y además se pide graficar el error cuadrático \n",
    "medio (ECM) vs. las iteraciones del algorítmo. La gráfica debe llevar título y los correspondientes nombres de los ejes."
   ]
  },
  {
   "cell_type": "code",
   "execution_count": 12,
   "metadata": {},
   "outputs": [],
   "source": [
    "#Error cuadrático medio (criterio para el modelo de regresión polinomial)\n",
    "def ECM(Y_est,Y):\n",
    "    N = np.size(Y)\n",
    "    ecm = sum((Y_est - Y)**2)/(2*N)\n",
    "    return ecm \n"
   ]
  },
  {
   "cell_type": "markdown",
   "metadata": {},
   "source": [
    "$\\large{\\it{Función\\ de\\ error}}$:\n",
    "\n",
    "$$ E(w)= \\dfrac{1}{2N}\\sum_{i=1}^{N} (f(X_i,W)-y_i)^2$$\n",
    "\n"
   ]
  },
  {
   "cell_type": "code",
   "execution_count": 13,
   "metadata": {},
   "outputs": [],
   "source": [
    "#Modelo Regresión Múltiple\n",
    "def regression(X, W):\n",
    "    Yest = np.dot(X,W)    #con np.dot se realiza el producto matricial. Aquí X es dim [Nxd] y W es dim [dx1]\n",
    "    return Yest           #Esta variable contiene la salida de f(X,W)"
   ]
  },
  {
   "cell_type": "markdown",
   "metadata": {},
   "source": [
    "## Modelo de regresión multiple\n",
    "\n",
    "$$ f(\\vec{X},\\vec{W}) = w_0 + w_1x_1 + w_2x_2 + ... + w_d x_{id} = \\sum_{k=0}^{d} w_k x_k$$"
   ]
  },
  {
   "cell_type": "code",
   "execution_count": 14,
   "metadata": {},
   "outputs": [],
   "source": [
    "#Potencia de polinomio\n",
    "def potenciaPolinomio(X,grado):\n",
    "    X2 = X\n",
    "    \n",
    "    if grado != 1:\n",
    "        for i in range(2,grado+1):\n",
    "            Xadd = X**i\n",
    "            X2 = np.concatenate((X2, Xadd), axis=1)\n",
    "            \n",
    "    return X2"
   ]
  },
  {
   "cell_type": "code",
   "execution_count": 4,
   "metadata": {},
   "outputs": [],
   "source": [
    "#Error cuadrático medio (criterio para el modelo de regresión polinomial)\n",
    "def ECM(Y_est,Y):\n",
    "    N = np.size(Y)\n",
    "    ecm = sum((Y_est - Y)**2)/(2*N)\n",
    "    return ecm \n",
    "\n",
    "#Modelo Regresión Múltiple\n",
    "def regression(X, W):\n",
    "    Yest = np.dot(X,W)    #con np.dot se realiza el producto matricial. Aquí X es dim [Nxd] y W es dim [dx1]\n",
    "    return Yest           #Esta variable contiene la salida de f(X,W)\n",
    "\n",
    "\n",
    "#Potencia de polinomio\n",
    "def potenciaPolinomio(X,grado):\n",
    "    X2 = X\n",
    "    \n",
    "    if grado != 1:\n",
    "        for i in range(2,grado+1):\n",
    "            Xadd = X**i\n",
    "            X2 = np.concatenate((X2, Xadd), axis=1)\n",
    "            \n",
    "    return X2\n",
    "\n",
    "    \n",
    "#Gradiente descendente para regresión polinomial\n",
    "\n",
    "def gradiente_descendente(X,Y,eta):\n",
    "    \n",
    "    #X es la matriz de datos extendida. W es el vector de parámetros del modelo\n",
    "    #Extendemos la matriz\n",
    "    unos = np.array([np.ones(np.size(X,0))])\n",
    "    #Concatenamos el vector de unos con la matriz X\n",
    "    X = np.concatenate((unos.T, X), axis=1)\n",
    "    X = X.reshape(np.size(X,0),np.size(X,1))\n",
    "    \n",
    "    Y = Y.reshape(np.size(Y), 1)\n",
    "    \n",
    "    #Tomamos el número de variables del problema\n",
    "    d = np.size(X,1)\n",
    "    \n",
    "    #Tomamos el número de muestras de la base de datos\n",
    "    N = np.size(X,0)\n",
    "    \n",
    "    #Inicializamos el vector de parámetros aleatoriamente\n",
    "    Want = np.random.randn(d)\n",
    "    Want = Want.reshape(np.size(Want),1)\n",
    "    \n",
    "    eta = eta\n",
    "    \n",
    "    iteraciones = 500\n",
    "    ecms = np.zeros(iteraciones)\n",
    "    \n",
    "    for iter in range(iteraciones):\n",
    "        \n",
    "        error = ECM(regression(X,Want),Y)\n",
    "        ecms[iter] = error\n",
    "        \n",
    "        #Aquí debe completar el código con la regla de actualización de los parámetros W. Tenga en cuenta\n",
    "        #los nombres de las variables ya creadas: Want, X, Y\n",
    "        sumaResultadoI=regression(X,Want)\n",
    "        Yest = sumaResultadoI-Y\n",
    "        Resultado = np.dot(X.T,Yest)\n",
    "        W = Want-(eta*((1/N)*Resultado))\n",
    "        Want = W\n",
    "        \n",
    "    print ('Vector de parámetros del modelo:\\n')\n",
    "    print (W)\n",
    "    print ('\\nError Final = ' + str(ecms[-1]))\n",
    "    \n",
    "    #Aquí debe completar el código para realizar la gráfica de ecms vs. iteraciones\n",
    "    plt.plot(np.arange(iteraciones),ecms)\n",
    "    plt.ylabel('y = ECMS')\n",
    "    plt.xlabel('x = Iteraciones')\n",
    "    plt.title(u' ECMS vs. Iteraciones\\n')\n",
    "    plt.show()\n",
    "    \n",
    "    return W\n",
    "    "
   ]
  },
  {
   "cell_type": "markdown",
   "metadata": {},
   "source": [
    "## Ejercicio 3\n",
    "\n",
    "A continuación, se leen los datos de un problema de regresión que consiste en predecir el valor de la humedad absoluta en el aire, a partir de varias variables sensadas en el aire (Para más información sobre la base de datos, consulte: https://archive.ics.uci.edu/ml/datasets/Air+Quality). Las variables o caracterísicas son guardadas en la variable X que posteriormente es estandarizada y la variable de salida o variable a predecir es guardada en la variable Y. Complete el código llamando a la función gradiente_descendente y pasandole los parámetros correspondientes. Debe obtener como salída el vector de parámetros W estimado y la gráfica del error cuadrático medio vs iteraciones."
   ]
  },
  {
   "cell_type": "code",
   "execution_count": 9,
   "metadata": {},
   "outputs": [
    {
     "name": "stdout",
     "output_type": "stream",
     "text": [
      "Vector de parámetros del modelo:\n",
      "\n",
      "[[-0.04599288]\n",
      " [ 1.03707134]\n",
      " [-0.65282999]\n",
      " [ 1.08269013]\n",
      " [-0.59539529]\n",
      " [-1.74236443]\n",
      " [ 0.53400761]\n",
      " [-0.29622713]\n",
      " [ 0.39329237]\n",
      " [-1.25678783]\n",
      " [-0.56194846]\n",
      " [-0.28744853]\n",
      " [-1.17279462]]\n",
      "\n",
      "Error Final = 799.8624632324276\n"
     ]
    },
    {
     "data": {
      "image/png": "[encoded data removed]",
      "text/plain": [
       "<Figure size 432x288 with 1 Axes>"
      ]
     },
     "metadata": {
      "needs_background": "light"
     },
     "output_type": "display_data"
    }
   ],
   "source": [
    "from sklearn.preprocessing import MinMaxScaler\n",
    "import numpy as np\n",
    "import matplotlib.pyplot as plt\n",
    "\n",
    "#cargamos la bd que está en un archivo .data y ahora la podemos manejar de forma matricial\n",
    "db = np.loadtxt('DB/AirQuality.data',delimiter='\\t')  # Assuming tab-delimiter\n",
    "\n",
    "#Esta es la base de datos AirQuality del UCI Machine Learning Repository. En la siguiente URL se encuentra toda\n",
    "#la descripción de la base de datos y la contextualización del problema.\n",
    "#https://archive.ics.uci.edu/ml/datasets/Air+Quality#\n",
    "\n",
    "X = db[:,0:12]\n",
    "Y = db[:,12]\n",
    "\n",
    "# Se transforma la matriz de datos de acuerdo al grado del polinomio\n",
    "grado = 1\n",
    "X = potenciaPolinomio(X,grado)\n",
    "\n",
    "#Estandarización de los datos\n",
    "scaler = MinMaxScaler()\n",
    "scaler.fit(X)\n",
    "X = scaler.transform(X)\n",
    "\n",
    "\n",
    "eta = 0.00001\n",
    "#eta = 0.001\n",
    "#eta = 0.1\n",
    "\n",
    "#Complete la siguiente línea de código llamando el método gradiente_descendente con sus respectivos argumentos\n",
    "W = gradiente_descendente(X,Y,eta) "
   ]
  },
  {
   "cell_type": "markdown",
   "metadata": {},
   "source": [
    "3.1 Cuántas muestras tiene la base de datos?\n",
    "\n",
    "3.2 Cuántas caracteristicas tiene el problema?\n",
    "\n",
    "3.3 Cuál es el número de coeficientes w que se obtienen al ingresar un polinomio de grado 4? por qué?\n",
    "\n",
    "3.4 La funci&oacute;n polin&oacute;mica que se est&aacute; usando para grados mayores a 1\n",
    "est&aacute; incompleta, ¿por qu&eacute;?"
   ]
  },
  {
   "cell_type": "markdown",
   "metadata": {},
   "source": [
    "Responda aquí:\n",
    "\n",
    "3.1 R/:  En la base de datos segun el algoritmo nos da 9357 muestras\n",
    "\n",
    "3.2 R/: El problema tienen 13 caracteristicas ya que se cargan las columnas de 0 a 12.\n",
    "\n",
    "3.3 R/: Al ingresar un polinomio de grado 4 se obtiene el numero de coeficientes w = 49\n",
    "\n",
    "3.4 R/:\n"
   ]
  },
  {
   "cell_type": "markdown",
   "metadata": {},
   "source": [
    "## Ejercicio 4\n",
    "\n",
    "Identifique la variable \"eta\" (tasa de aprendizaje $\\eta$) en el código anterior, cambie su valor de acuerdo a la siguiente tabla. Haga lo mismo con el valor del grado del polinomio y complete la columna ECM.\n",
    "\n",
    "<table>\n",
    "  <tr>\n",
    "    <th>Tasa de aprendizaje</th>\n",
    "    <th>Grado del polinomio</th>\n",
    "    <th>Error Cuadrático Medio (ECM)</th>\n",
    "  </tr>\n",
    "  <tr>\n",
    "    <td>0.00001</td>\n",
    "    <td>1</td>\n",
    "    <td>782.65</td>\n",
    "  </tr> \n",
    "  <tr>\n",
    "    <td>0.00001</td>\n",
    "    <td>2</td>\n",
    "    <td>781.27</td>\n",
    "  </tr>\n",
    "  <tr>\n",
    "    <td>0.00001</td>\n",
    "    <td>3</td>\n",
    "    <td>786.50</td>\n",
    "  </tr>\n",
    "  <tr>\n",
    "    <td>0.00001</td>\n",
    "    <td>4</td>\n",
    "    <td>780.53</td>\n",
    "  </tr>\n",
    "  <tr>\n",
    "    <td>0.00001</td>\n",
    "    <td>5</td>\n",
    "    <td>783.96</td>\n",
    "  </tr>\n",
    "    \n",
    " <tr>\n",
    "    <td>0.001</td>\n",
    "    <td>1</td>\n",
    "    <td>769.75</td>\n",
    "  </tr> \n",
    "  <tr>\n",
    "    <td>0.001</td>\n",
    "    <td>2</td>\n",
    "    <td>768.28</td>\n",
    "  </tr>\n",
    "  <tr>\n",
    "    <td>0.001</td>\n",
    "    <td>3</td>\n",
    "    <td>768.26</td>\n",
    "  </tr>\n",
    "  <tr>\n",
    "    <td>0.001</td>\n",
    "    <td>4</td>\n",
    "    <td>769.29</td>\n",
    "  </tr>\n",
    "  <tr>\n",
    "    <td>0.001</td>\n",
    "    <td>5</td>\n",
    "    <td>770.67</td>\n",
    "  </tr>\n",
    "  \n",
    "  <tr>\n",
    "    <td>0.1</td>\n",
    "    <td>1</td>\n",
    "    <td>759.50</td>\n",
    "  </tr> \n",
    "  <tr>\n",
    "    <td>0.1</td>\n",
    "    <td>2</td>\n",
    "    <td>759.49</td>\n",
    "  </tr>\n",
    "  <tr>\n",
    "    <td>0.1</td>\n",
    "    <td>3</td>\n",
    "    <td>759.41</td>\n",
    "  </tr>\n",
    "  <tr>\n",
    "    <td>0.1</td>\n",
    "    <td>4</td>\n",
    "    <td>759.31</td>\n",
    "  </tr>\n",
    "  <tr>\n",
    "    <td>0.1</td>\n",
    "    <td>5</td>\n",
    "    <td>759.25</td>\n",
    "  </tr>\n",
    "</table>\n",
    "\n",
    "\n",
    "\n",
    "Tenga en cuenta que cuando el valor de $\\eta$ sea $0.00001$ y el grado del polinomio sea $1$, el valor del ECM debe ser cercano a $782.65$. Esto le servirá de criterio de verificación para la implementación de su algorítmo de gradiente descendente.\n"
   ]
  },
  {
   "cell_type": "markdown",
   "metadata": {},
   "source": [
    "## Ejercicio 4\n",
    "\n",
    "En la celda de código del ejercicio 3, comente las líneas donde se estandariza la matriz de datos X. Verifique que valor de la tasa de aprendizaje $\\eta$ está en $0.0001$ en el método de gradiente_descendente. Vuelva a correr el código del ejercicio 3 y observe que pasa con el ECM.\n",
    "\n",
    "4.1 Qué sucede con los valores del ECM?\n",
    "\n",
    "4.2 A qué se debe lo que observa?"
   ]
  },
  {
   "cell_type": "markdown",
   "metadata": {},
   "source": [
    "Responda aquí:\n",
    "\n",
    "4.1 R/:los valos se deben normalizar, debido a que los numeros flotantes que obtener no se pueden representar como numeros enteros los cuales arroja cada vector NaN (Not A Number). \n",
    "\n",
    "4.2 R/: se observa que los valores del arreglo no tiene la misma escala de comparacion por lo cual no se no de pueden analizar con facilidad, lo cual nos indica que es necesario normalizar dichos valores.\n"
   ]
  },
  {
   "cell_type": "code",
   "execution_count": null,
   "metadata": {},
   "outputs": [],
   "source": []
  }
 ],
 "metadata": {
  "kernelspec": {
   "display_name": "Python 3",
   "language": "python",
   "name": "python3"
  },
  "language_info": {
   "codemirror_mode": {
    "name": "ipython",
    "version": 3
   },
   "file_extension": ".py",
   "mimetype": "text/x-python",
   "name": "python",
   "nbconvert_exporter": "python",
   "pygments_lexer": "ipython3",
   "version": "3.7.4"
  }
 },
 "nbformat": 4,
 "nbformat_minor": 4
}
